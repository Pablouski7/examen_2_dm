{
 "cells": [
  {
   "cell_type": "markdown",
   "metadata": {},
   "source": [
    "## a) Business Understanding\n",
    "**Formulación del problema**  \n",
    "Interconnect busca identificar de forma proactiva a los clientes con mayor riesgo de cancelar su suscripción (churn) para ofrecerles promociones y reducir la pérdida de ingresos.\n",
    "\n",
    "**KPIs de éxito**  \n",
    "- **Principal:** AUC-ROC ≥ 0.85 en el conjunto de test.  \n",
    "- **Secundario:** Precision-Recall AUC (Average Precision) ≥ 0.50 para priorizar efectividad en campañas.\n",
    "- **Impacto de negocio:** Reducción estimada de churn en al menos 5% traducida en ahorro de costos de adquisición.\n",
    "\n",
    "**Hipótesis iniciales**  \n",
    "1. Clientes con contratos de tipo \"Month-to-month\" (mensual) presentan mayor churn que los de largo plazo.  \n",
    "2. El uso de facturación electrónica (PaperlessBilling) aumenta la probabilidad de abandono por falta de vínculo físico.  \n",
    "3. Mayor diversidad de servicios contratados (internet, teléfono, streaming) reduce el churn.  \n",
    "4. Clientes que pagan con \"Electronic check\" tienen mayor churn que métodos automatizados."
   ]
  },
  {
   "cell_type": "markdown",
   "metadata": {},
   "source": [
    "## b) Data Understanding\n",
    "- **Carga de datos:** Leer `contract.csv`, `personal.csv`, `internet.csv`, `phone.csv` desde carpeta `data/`.\n",
    "- **Exploración inicial:** Dimensiones, tipos, valores faltantes, distribuciones.\n",
    "- **Data dictionary:** Breve tabla con descripción de variables principales.\n",
    "- **Verificación de supuestos:** Distribución de la variable objetivo `Churn`, balance de clases.\n"
   ]
  },
  {
   "cell_type": "code",
   "execution_count": 1,
   "metadata": {},
   "outputs": [],
   "source": [
    "import pandas as pd\n",
    "contract = pd.read_csv('../data/contract.csv', low_memory=False)\n",
    "internet = pd.read_csv('../data/internet.csv', low_memory=False)\n",
    "personal = pd.read_csv('../data/personal.csv', low_memory=False)\n",
    "phone = pd.read_csv('../data/phone.csv', low_memory=False)"
   ]
  },
  {
   "cell_type": "code",
   "execution_count": 2,
   "metadata": {},
   "outputs": [],
   "source": [
    "import os\n",
    "import sys\n",
    "project_root = os.path.dirname(os.path.abspath(''))\n",
    "src_path = os.path.join(project_root, 'src')\n",
    "sys.path.append(src_path)\n",
    "from eda import Eda"
   ]
  },
  {
   "cell_type": "code",
   "execution_count": 3,
   "metadata": {},
   "outputs": [
    {
     "data": {
      "application/vnd.microsoft.datawrangler.viewer.v0+json": {
       "columns": [
        {
         "name": "index",
         "rawType": "int64",
         "type": "integer"
        },
        {
         "name": "customerID",
         "rawType": "object",
         "type": "string"
        },
        {
         "name": "BeginDate",
         "rawType": "object",
         "type": "string"
        },
        {
         "name": "EndDate",
         "rawType": "object",
         "type": "string"
        },
        {
         "name": "Type",
         "rawType": "object",
         "type": "string"
        },
        {
         "name": "PaperlessBilling",
         "rawType": "object",
         "type": "string"
        },
        {
         "name": "PaymentMethod",
         "rawType": "object",
         "type": "string"
        },
        {
         "name": "MonthlyCharges",
         "rawType": "float64",
         "type": "float"
        },
        {
         "name": "TotalCharges",
         "rawType": "object",
         "type": "string"
        }
       ],
       "conversionMethod": "pd.DataFrame",
       "ref": "3b3d1cc3-f16f-40a6-b54c-4e90e849e9b8",
       "rows": [
        [
         "0",
         "7590-VHVEG",
         "2020-01-01",
         "No",
         "Month-to-month",
         "Yes",
         "Electronic check",
         "29.85",
         "29.85"
        ],
        [
         "1",
         "5575-GNVDE",
         "2017-04-01",
         "No",
         "One year",
         "No",
         "Mailed check",
         "56.95",
         "1889.5"
        ],
        [
         "2",
         "3668-QPYBK",
         "2019-10-01",
         "2019-12-01 00:00:00",
         "Month-to-month",
         "Yes",
         "Mailed check",
         "53.85",
         "108.15"
        ],
        [
         "3",
         "7795-CFOCW",
         "2016-05-01",
         "No",
         "One year",
         "No",
         "Bank transfer (automatic)",
         "42.3",
         "1840.75"
        ],
        [
         "4",
         "9237-HQITU",
         "2019-09-01",
         "2019-11-01 00:00:00",
         "Month-to-month",
         "Yes",
         "Electronic check",
         "70.7",
         "151.65"
        ]
       ],
       "shape": {
        "columns": 8,
        "rows": 5
       }
      },
      "text/html": [
       "<div>\n",
       "<style scoped>\n",
       "    .dataframe tbody tr th:only-of-type {\n",
       "        vertical-align: middle;\n",
       "    }\n",
       "\n",
       "    .dataframe tbody tr th {\n",
       "        vertical-align: top;\n",
       "    }\n",
       "\n",
       "    .dataframe thead th {\n",
       "        text-align: right;\n",
       "    }\n",
       "</style>\n",
       "<table border=\"1\" class=\"dataframe\">\n",
       "  <thead>\n",
       "    <tr style=\"text-align: right;\">\n",
       "      <th></th>\n",
       "      <th>customerID</th>\n",
       "      <th>BeginDate</th>\n",
       "      <th>EndDate</th>\n",
       "      <th>Type</th>\n",
       "      <th>PaperlessBilling</th>\n",
       "      <th>PaymentMethod</th>\n",
       "      <th>MonthlyCharges</th>\n",
       "      <th>TotalCharges</th>\n",
       "    </tr>\n",
       "  </thead>\n",
       "  <tbody>\n",
       "    <tr>\n",
       "      <th>0</th>\n",
       "      <td>7590-VHVEG</td>\n",
       "      <td>2020-01-01</td>\n",
       "      <td>No</td>\n",
       "      <td>Month-to-month</td>\n",
       "      <td>Yes</td>\n",
       "      <td>Electronic check</td>\n",
       "      <td>29.85</td>\n",
       "      <td>29.85</td>\n",
       "    </tr>\n",
       "    <tr>\n",
       "      <th>1</th>\n",
       "      <td>5575-GNVDE</td>\n",
       "      <td>2017-04-01</td>\n",
       "      <td>No</td>\n",
       "      <td>One year</td>\n",
       "      <td>No</td>\n",
       "      <td>Mailed check</td>\n",
       "      <td>56.95</td>\n",
       "      <td>1889.5</td>\n",
       "    </tr>\n",
       "    <tr>\n",
       "      <th>2</th>\n",
       "      <td>3668-QPYBK</td>\n",
       "      <td>2019-10-01</td>\n",
       "      <td>2019-12-01 00:00:00</td>\n",
       "      <td>Month-to-month</td>\n",
       "      <td>Yes</td>\n",
       "      <td>Mailed check</td>\n",
       "      <td>53.85</td>\n",
       "      <td>108.15</td>\n",
       "    </tr>\n",
       "    <tr>\n",
       "      <th>3</th>\n",
       "      <td>7795-CFOCW</td>\n",
       "      <td>2016-05-01</td>\n",
       "      <td>No</td>\n",
       "      <td>One year</td>\n",
       "      <td>No</td>\n",
       "      <td>Bank transfer (automatic)</td>\n",
       "      <td>42.30</td>\n",
       "      <td>1840.75</td>\n",
       "    </tr>\n",
       "    <tr>\n",
       "      <th>4</th>\n",
       "      <td>9237-HQITU</td>\n",
       "      <td>2019-09-01</td>\n",
       "      <td>2019-11-01 00:00:00</td>\n",
       "      <td>Month-to-month</td>\n",
       "      <td>Yes</td>\n",
       "      <td>Electronic check</td>\n",
       "      <td>70.70</td>\n",
       "      <td>151.65</td>\n",
       "    </tr>\n",
       "  </tbody>\n",
       "</table>\n",
       "</div>"
      ],
      "text/plain": [
       "   customerID   BeginDate              EndDate            Type  \\\n",
       "0  7590-VHVEG  2020-01-01                   No  Month-to-month   \n",
       "1  5575-GNVDE  2017-04-01                   No        One year   \n",
       "2  3668-QPYBK  2019-10-01  2019-12-01 00:00:00  Month-to-month   \n",
       "3  7795-CFOCW  2016-05-01                   No        One year   \n",
       "4  9237-HQITU  2019-09-01  2019-11-01 00:00:00  Month-to-month   \n",
       "\n",
       "  PaperlessBilling              PaymentMethod  MonthlyCharges TotalCharges  \n",
       "0              Yes           Electronic check           29.85        29.85  \n",
       "1               No               Mailed check           56.95       1889.5  \n",
       "2              Yes               Mailed check           53.85       108.15  \n",
       "3               No  Bank transfer (automatic)           42.30      1840.75  \n",
       "4              Yes           Electronic check           70.70       151.65  "
      ]
     },
     "execution_count": 3,
     "metadata": {},
     "output_type": "execute_result"
    }
   ],
   "source": [
    "contract.head()"
   ]
  },
  {
   "cell_type": "code",
   "execution_count": 4,
   "metadata": {},
   "outputs": [
    {
     "name": "stdout",
     "output_type": "stream",
     "text": [
      "=============================================================================================================================\n",
      "|                                               Análisis de la tabla Contract                                               |\n",
      "=============================================================================================================================\n",
      "Dimensiones: (7043, 8)\n",
      "\n",
      "Estadísticas descriptivas y problemas de calidad:\n",
      "|                               | customerid      | begindate       | enddate         | type            | paperlessbilling   | paymentmethod   | monthlycharges     | totalcharges    |\n",
      "|:------------------------------|:----------------|:----------------|:----------------|:----------------|:-------------------|:----------------|:-------------------|:----------------|\n",
      "| Valores Únicos                | 7043            | 77              | 5               | 3               | 2                  | 4               | 1585               | 6531            |\n",
      "| Media                         | -               | -               | -               | -               | -                  | -               | 64.76169246059918  | -               |\n",
      "| Desviación Estándar           | -               | -               | -               | -               | -                  | -               | 30.090047097678493 | -               |\n",
      "| Mínimo                        | -               | -               | -               | -               | -                  | -               | 18.25              | -               |\n",
      "| Mediana                       | -               | -               | -               | -               | -                  | -               | 70.35              | -               |\n",
      "| Máximo                        | -               | -               | -               | -               | -                  | -               | 118.75             | -               |\n",
      "| Tipos de datos                | [<class 'str'>] | [<class 'str'>] | [<class 'str'>] | [<class 'str'>] | [<class 'str'>]    | [<class 'str'>] | [<class 'float'>]  | [<class 'str'>] |\n",
      "| NaN/Null                      | 0               | 0               | 0               | 0               | 0                  | 0               | 0                  | 0               |\n",
      "| Duplicados únicos             | 0               | 6966            | 7038            | 7040            | 7041               | 7039            | 5458               | 512             |\n",
      "| Duplicados totales            | 0               | 7043            | 7043            | 7043            | 7043               | 7043            | 6662               | 871             |\n",
      "| Outlayers (IQR extreme_lower) | -               | -               | -               | -               | -                  | -               | 0                  | -               |\n",
      "| Outlayers (IQR lower)         | -               | -               | -               | -               | -                  | -               | 0                  | -               |\n",
      "| Outlayers (IQR upper)         | -               | -               | -               | -               | -                  | -               | 0                  | -               |\n",
      "| Outlayers (IQR extreme_upper) | -               | -               | -               | -               | -                  | -               | 0                  | -               |\n"
     ]
    }
   ],
   "source": [
    "Eda.analisis_exploratorio(\"Contract\", contract)"
   ]
  },
  {
   "cell_type": "code",
   "execution_count": 5,
   "metadata": {},
   "outputs": [
    {
     "data": {
      "text/plain": [
       "<Axes: title={'center': 'Contract Type'}, xlabel='Type'>"
      ]
     },
     "execution_count": 5,
     "metadata": {},
     "output_type": "execute_result"
    },
    {
     "data": {
      "image/png": "[encoded data removed]",
      "text/plain": [
       "<Figure size 640x480 with 1 Axes>"
      ]
     },
     "metadata": {},
     "output_type": "display_data"
    }
   ],
   "source": [
    "contract[\"Type\"].value_counts().plot(kind=\"bar\", title=\"Contract Type\")"
   ]
  },
  {
   "cell_type": "code",
   "execution_count": 6,
   "metadata": {},
   "outputs": [
    {
     "data": {
      "text/plain": [
       "<Axes: title={'center': 'Payment Method'}, xlabel='PaymentMethod'>"
      ]
     },
     "execution_count": 6,
     "metadata": {},
     "output_type": "execute_result"
    },
    {
     "data": {
      "image/png": "[encoded data removed]",
      "text/plain": [
       "<Figure size 640x480 with 1 Axes>"
      ]
     },
     "metadata": {},
     "output_type": "display_data"
    }
   ],
   "source": [
    "contract[\"PaymentMethod\"].value_counts().plot(kind=\"bar\", title=\"Payment Method\")"
   ]
  },
  {
   "cell_type": "markdown",
   "metadata": {},
   "source": [
    "No encontramos patrones inusuales en los gráficos"
   ]
  },
  {
   "cell_type": "code",
   "execution_count": 7,
   "metadata": {},
   "outputs": [
    {
     "data": {
      "text/plain": [
       "Timestamp('2013-10-01 00:00:00')"
      ]
     },
     "metadata": {},
     "output_type": "display_data"
    },
    {
     "data": {
      "text/plain": [
       "Timestamp('2020-02-01 00:00:00')"
      ]
     },
     "metadata": {},
     "output_type": "display_data"
    }
   ],
   "source": [
    "contract[\"BeginDate\"] = pd.to_datetime(contract[\"BeginDate\"])\n",
    "display(contract[\"BeginDate\"].min())\n",
    "display(contract[\"BeginDate\"].max())"
   ]
  },
  {
   "cell_type": "markdown",
   "metadata": {},
   "source": [
    "En los contratos no encontramos data faltante, los duplicados son esperadosy tampoco encontramos outliers. Lo que encontramos es varias variables que podemos transformarlas en booleanas o categoricas. Se puede mantener el formato del nombre de las columnas.\n",
    "Contamos con data desde octubre del 2013 hasta febrero 01 del 2020"
   ]
  },
  {
   "cell_type": "code",
   "execution_count": 8,
   "metadata": {},
   "outputs": [
    {
     "data": {
      "application/vnd.microsoft.datawrangler.viewer.v0+json": {
       "columns": [
        {
         "name": "index",
         "rawType": "int64",
         "type": "integer"
        },
        {
         "name": "customerID",
         "rawType": "object",
         "type": "string"
        },
        {
         "name": "InternetService",
         "rawType": "object",
         "type": "string"
        },
        {
         "name": "OnlineSecurity",
         "rawType": "object",
         "type": "string"
        },
        {
         "name": "OnlineBackup",
         "rawType": "object",
         "type": "string"
        },
        {
         "name": "DeviceProtection",
         "rawType": "object",
         "type": "string"
        },
        {
         "name": "TechSupport",
         "rawType": "object",
         "type": "string"
        },
        {
         "name": "StreamingTV",
         "rawType": "object",
         "type": "string"
        },
        {
         "name": "StreamingMovies",
         "rawType": "object",
         "type": "string"
        }
       ],
       "conversionMethod": "pd.DataFrame",
       "ref": "62041506-6df7-46b8-aa28-cb23e6c5007d",
       "rows": [
        [
         "0",
         "7590-VHVEG",
         "DSL",
         "No",
         "Yes",
         "No",
         "No",
         "No",
         "No"
        ],
        [
         "1",
         "5575-GNVDE",
         "DSL",
         "Yes",
         "No",
         "Yes",
         "No",
         "No",
         "No"
        ],
        [
         "2",
         "3668-QPYBK",
         "DSL",
         "Yes",
         "Yes",
         "No",
         "No",
         "No",
         "No"
        ],
        [
         "3",
         "7795-CFOCW",
         "DSL",
         "Yes",
         "No",
         "Yes",
         "Yes",
         "No",
         "No"
        ],
        [
         "4",
         "9237-HQITU",
         "Fiber optic",
         "No",
         "No",
         "No",
         "No",
         "No",
         "No"
        ]
       ],
       "shape": {
        "columns": 8,
        "rows": 5
       }
      },
      "text/html": [
       "<div>\n",
       "<style scoped>\n",
       "    .dataframe tbody tr th:only-of-type {\n",
       "        vertical-align: middle;\n",
       "    }\n",
       "\n",
       "    .dataframe tbody tr th {\n",
       "        vertical-align: top;\n",
       "    }\n",
       "\n",
       "    .dataframe thead th {\n",
       "        text-align: right;\n",
       "    }\n",
       "</style>\n",
       "<table border=\"1\" class=\"dataframe\">\n",
       "  <thead>\n",
       "    <tr style=\"text-align: right;\">\n",
       "      <th></th>\n",
       "      <th>customerID</th>\n",
       "      <th>InternetService</th>\n",
       "      <th>OnlineSecurity</th>\n",
       "      <th>OnlineBackup</th>\n",
       "      <th>DeviceProtection</th>\n",
       "      <th>TechSupport</th>\n",
       "      <th>StreamingTV</th>\n",
       "      <th>StreamingMovies</th>\n",
       "    </tr>\n",
       "  </thead>\n",
       "  <tbody>\n",
       "    <tr>\n",
       "      <th>0</th>\n",
       "      <td>7590-VHVEG</td>\n",
       "      <td>DSL</td>\n",
       "      <td>No</td>\n",
       "      <td>Yes</td>\n",
       "      <td>No</td>\n",
       "      <td>No</td>\n",
       "      <td>No</td>\n",
       "      <td>No</td>\n",
       "    </tr>\n",
       "    <tr>\n",
       "      <th>1</th>\n",
       "      <td>5575-GNVDE</td>\n",
       "      <td>DSL</td>\n",
       "      <td>Yes</td>\n",
       "      <td>No</td>\n",
       "      <td>Yes</td>\n",
       "      <td>No</td>\n",
       "      <td>No</td>\n",
       "      <td>No</td>\n",
       "    </tr>\n",
       "    <tr>\n",
       "      <th>2</th>\n",
       "      <td>3668-QPYBK</td>\n",
       "      <td>DSL</td>\n",
       "      <td>Yes</td>\n",
       "      <td>Yes</td>\n",
       "      <td>No</td>\n",
       "      <td>No</td>\n",
       "      <td>No</td>\n",
       "      <td>No</td>\n",
       "    </tr>\n",
       "    <tr>\n",
       "      <th>3</th>\n",
       "      <td>7795-CFOCW</td>\n",
       "      <td>DSL</td>\n",
       "      <td>Yes</td>\n",
       "      <td>No</td>\n",
       "      <td>Yes</td>\n",
       "      <td>Yes</td>\n",
       "      <td>No</td>\n",
       "      <td>No</td>\n",
       "    </tr>\n",
       "    <tr>\n",
       "      <th>4</th>\n",
       "      <td>9237-HQITU</td>\n",
       "      <td>Fiber optic</td>\n",
       "      <td>No</td>\n",
       "      <td>No</td>\n",
       "      <td>No</td>\n",
       "      <td>No</td>\n",
       "      <td>No</td>\n",
       "      <td>No</td>\n",
       "    </tr>\n",
       "  </tbody>\n",
       "</table>\n",
       "</div>"
      ],
      "text/plain": [
       "   customerID InternetService OnlineSecurity OnlineBackup DeviceProtection  \\\n",
       "0  7590-VHVEG             DSL             No          Yes               No   \n",
       "1  5575-GNVDE             DSL            Yes           No              Yes   \n",
       "2  3668-QPYBK             DSL            Yes          Yes               No   \n",
       "3  7795-CFOCW             DSL            Yes           No              Yes   \n",
       "4  9237-HQITU     Fiber optic             No           No               No   \n",
       "\n",
       "  TechSupport StreamingTV StreamingMovies  \n",
       "0          No          No              No  \n",
       "1          No          No              No  \n",
       "2          No          No              No  \n",
       "3         Yes          No              No  \n",
       "4          No          No              No  "
      ]
     },
     "metadata": {},
     "output_type": "display_data"
    },
    {
     "name": "stdout",
     "output_type": "stream",
     "text": [
      "=============================================================================================================================\n",
      "|                                               Análisis de la tabla Internet                                               |\n",
      "=============================================================================================================================\n",
      "Dimensiones: (5517, 8)\n",
      "\n",
      "Estadísticas descriptivas y problemas de calidad:\n",
      "|                               | customerid      | internetservice   | onlinesecurity   | onlinebackup    | deviceprotection   | techsupport     | streamingtv     | streamingmovies   |\n",
      "|:------------------------------|:----------------|:------------------|:-----------------|:----------------|:-------------------|:----------------|:----------------|:------------------|\n",
      "| Valores Únicos                | 5517            | 2                 | 2                | 2               | 2                  | 2               | 2               | 2                 |\n",
      "| Media                         | -               | -                 | -                | -               | -                  | -               | -               | -                 |\n",
      "| Desviación Estándar           | -               | -                 | -                | -               | -                  | -               | -               | -                 |\n",
      "| Mínimo                        | -               | -                 | -                | -               | -                  | -               | -               | -                 |\n",
      "| Mediana                       | -               | -                 | -                | -               | -                  | -               | -               | -                 |\n",
      "| Máximo                        | -               | -                 | -                | -               | -                  | -               | -               | -                 |\n",
      "| Tipos de datos                | [<class 'str'>] | [<class 'str'>]   | [<class 'str'>]  | [<class 'str'>] | [<class 'str'>]    | [<class 'str'>] | [<class 'str'>] | [<class 'str'>]   |\n",
      "| NaN/Null                      | 0               | 0                 | 0                | 0               | 0                  | 0               | 0               | 0                 |\n",
      "| Duplicados únicos             | 0               | 5515              | 5515             | 5515            | 5515               | 5515            | 5515            | 5515              |\n",
      "| Duplicados totales            | 0               | 5517              | 5517             | 5517            | 5517               | 5517            | 5517            | 5517              |\n",
      "| Outlayers (IQR extreme_lower) | -               | -                 | -                | -               | -                  | -               | -               | -                 |\n",
      "| Outlayers (IQR lower)         | -               | -                 | -                | -               | -                  | -               | -               | -                 |\n",
      "| Outlayers (IQR upper)         | -               | -                 | -                | -               | -                  | -               | -               | -                 |\n",
      "| Outlayers (IQR extreme_upper) | -               | -                 | -                | -               | -                  | -               | -               | -                 |\n"
     ]
    }
   ],
   "source": [
    "display(internet.head())\n",
    "Eda.analisis_exploratorio(\"Internet\", internet)"
   ]
  },
  {
   "cell_type": "code",
   "execution_count": 9,
   "metadata": {},
   "outputs": [
    {
     "data": {
      "text/plain": [
       "<Axes: title={'center': 'Internet Service'}, xlabel='InternetService'>"
      ]
     },
     "execution_count": 9,
     "metadata": {},
     "output_type": "execute_result"
    },
    {
     "data": {
      "image/png": "[encoded data removed]",
      "text/plain": [
       "<Figure size 640x480 with 1 Axes>"
      ]
     },
     "metadata": {},
     "output_type": "display_data"
    }
   ],
   "source": [
    "internet[\"InternetService\"].value_counts().plot(kind=\"bar\", title=\"Internet Service\")"
   ]
  },
  {
   "cell_type": "markdown",
   "metadata": {},
   "source": [
    "Igual que en el caso anterior la data esat limpia y solo necesita codificación correcta de variables categoricas y booleanas. Tampoco se detectaron anomalias como desbalanceos con el gráfico de barras\n"
   ]
  },
  {
   "cell_type": "code",
   "execution_count": 10,
   "metadata": {},
   "outputs": [
    {
     "data": {
      "application/vnd.microsoft.datawrangler.viewer.v0+json": {
       "columns": [
        {
         "name": "index",
         "rawType": "int64",
         "type": "integer"
        },
        {
         "name": "customerID",
         "rawType": "object",
         "type": "string"
        },
        {
         "name": "gender",
         "rawType": "object",
         "type": "string"
        },
        {
         "name": "SeniorCitizen",
         "rawType": "int64",
         "type": "integer"
        },
        {
         "name": "Partner",
         "rawType": "object",
         "type": "string"
        },
        {
         "name": "Dependents",
         "rawType": "object",
         "type": "string"
        }
       ],
       "conversionMethod": "pd.DataFrame",
       "ref": "f1d194f2-ea49-428c-9e49-08c9bceda761",
       "rows": [
        [
         "0",
         "7590-VHVEG",
         "Female",
         "0",
         "Yes",
         "No"
        ],
        [
         "1",
         "5575-GNVDE",
         "Male",
         "0",
         "No",
         "No"
        ],
        [
         "2",
         "3668-QPYBK",
         "Male",
         "0",
         "No",
         "No"
        ],
        [
         "3",
         "7795-CFOCW",
         "Male",
         "0",
         "No",
         "No"
        ],
        [
         "4",
         "9237-HQITU",
         "Female",
         "0",
         "No",
         "No"
        ]
       ],
       "shape": {
        "columns": 5,
        "rows": 5
       }
      },
      "text/html": [
       "<div>\n",
       "<style scoped>\n",
       "    .dataframe tbody tr th:only-of-type {\n",
       "        vertical-align: middle;\n",
       "    }\n",
       "\n",
       "    .dataframe tbody tr th {\n",
       "        vertical-align: top;\n",
       "    }\n",
       "\n",
       "    .dataframe thead th {\n",
       "        text-align: right;\n",
       "    }\n",
       "</style>\n",
       "<table border=\"1\" class=\"dataframe\">\n",
       "  <thead>\n",
       "    <tr style=\"text-align: right;\">\n",
       "      <th></th>\n",
       "      <th>customerID</th>\n",
       "      <th>gender</th>\n",
       "      <th>SeniorCitizen</th>\n",
       "      <th>Partner</th>\n",
       "      <th>Dependents</th>\n",
       "    </tr>\n",
       "  </thead>\n",
       "  <tbody>\n",
       "    <tr>\n",
       "      <th>0</th>\n",
       "      <td>7590-VHVEG</td>\n",
       "      <td>Female</td>\n",
       "      <td>0</td>\n",
       "      <td>Yes</td>\n",
       "      <td>No</td>\n",
       "    </tr>\n",
       "    <tr>\n",
       "      <th>1</th>\n",
       "      <td>5575-GNVDE</td>\n",
       "      <td>Male</td>\n",
       "      <td>0</td>\n",
       "      <td>No</td>\n",
       "      <td>No</td>\n",
       "    </tr>\n",
       "    <tr>\n",
       "      <th>2</th>\n",
       "      <td>3668-QPYBK</td>\n",
       "      <td>Male</td>\n",
       "      <td>0</td>\n",
       "      <td>No</td>\n",
       "      <td>No</td>\n",
       "    </tr>\n",
       "    <tr>\n",
       "      <th>3</th>\n",
       "      <td>7795-CFOCW</td>\n",
       "      <td>Male</td>\n",
       "      <td>0</td>\n",
       "      <td>No</td>\n",
       "      <td>No</td>\n",
       "    </tr>\n",
       "    <tr>\n",
       "      <th>4</th>\n",
       "      <td>9237-HQITU</td>\n",
       "      <td>Female</td>\n",
       "      <td>0</td>\n",
       "      <td>No</td>\n",
       "      <td>No</td>\n",
       "    </tr>\n",
       "  </tbody>\n",
       "</table>\n",
       "</div>"
      ],
      "text/plain": [
       "   customerID  gender  SeniorCitizen Partner Dependents\n",
       "0  7590-VHVEG  Female              0     Yes         No\n",
       "1  5575-GNVDE    Male              0      No         No\n",
       "2  3668-QPYBK    Male              0      No         No\n",
       "3  7795-CFOCW    Male              0      No         No\n",
       "4  9237-HQITU  Female              0      No         No"
      ]
     },
     "metadata": {},
     "output_type": "display_data"
    },
    {
     "name": "stdout",
     "output_type": "stream",
     "text": [
      "=============================================================================================================================\n",
      "|                                               Análisis de la tabla Personal                                               |\n",
      "=============================================================================================================================\n",
      "Dimensiones: (7043, 5)\n",
      "\n",
      "Estadísticas descriptivas y problemas de calidad:\n",
      "|                               | customerid      | gender          | seniorcitizen    | partner         | dependents      |\n",
      "|:------------------------------|:----------------|:----------------|:-----------------|:----------------|:----------------|\n",
      "| Valores Únicos                | 7043            | 2               | 2                | 2               | 2               |\n",
      "| Media                         | -               | -               | -                | -               | -               |\n",
      "| Desviación Estándar           | -               | -               | -                | -               | -               |\n",
      "| Mínimo                        | -               | -               | -                | -               | -               |\n",
      "| Mediana                       | -               | -               | -                | -               | -               |\n",
      "| Máximo                        | -               | -               | -                | -               | -               |\n",
      "| Tipos de datos                | [<class 'str'>] | [<class 'str'>] | [<class 'bool'>] | [<class 'str'>] | [<class 'str'>] |\n",
      "| NaN/Null                      | 0               | 0               | 0                | 0               | 0               |\n",
      "| Duplicados únicos             | 0               | 7041            | 7041             | 7041            | 7041            |\n",
      "| Duplicados totales            | 0               | 7043            | 7043             | 7043            | 7043            |\n",
      "| Outlayers (IQR extreme_lower) | -               | -               | -                | -               | -               |\n",
      "| Outlayers (IQR lower)         | -               | -               | -                | -               | -               |\n",
      "| Outlayers (IQR upper)         | -               | -               | -                | -               | -               |\n",
      "| Outlayers (IQR extreme_upper) | -               | -               | -                | -               | -               |\n"
     ]
    }
   ],
   "source": [
    "display(personal.head())\n",
    "Eda.analisis_exploratorio(\"Personal\", personal)"
   ]
  },
  {
   "cell_type": "code",
   "execution_count": 11,
   "metadata": {},
   "outputs": [
    {
     "data": {
      "text/plain": [
       "<Axes: title={'center': 'Gender'}, xlabel='gender'>"
      ]
     },
     "execution_count": 11,
     "metadata": {},
     "output_type": "execute_result"
    },
    {
     "data": {
      "image/png": "[encoded data removed]",
      "text/plain": [
       "<Figure size 640x480 with 1 Axes>"
      ]
     },
     "metadata": {},
     "output_type": "display_data"
    }
   ],
   "source": [
    "personal[\"gender\"].value_counts().plot(kind=\"bar\", title=\"Gender\")"
   ]
  },
  {
   "cell_type": "markdown",
   "metadata": {},
   "source": [
    "De igual forma personal no presenta anomalias de ningun tipo, solo hay que transformar las columnas a sus datos apropiados."
   ]
  },
  {
   "cell_type": "code",
   "execution_count": 12,
   "metadata": {},
   "outputs": [
    {
     "data": {
      "application/vnd.microsoft.datawrangler.viewer.v0+json": {
       "columns": [
        {
         "name": "index",
         "rawType": "int64",
         "type": "integer"
        },
        {
         "name": "customerID",
         "rawType": "object",
         "type": "string"
        },
        {
         "name": "MultipleLines",
         "rawType": "object",
         "type": "string"
        }
       ],
       "conversionMethod": "pd.DataFrame",
       "ref": "8ae86a8f-ecec-4869-927f-3a72ca4983d4",
       "rows": [
        [
         "0",
         "5575-GNVDE",
         "No"
        ],
        [
         "1",
         "3668-QPYBK",
         "No"
        ],
        [
         "2",
         "9237-HQITU",
         "No"
        ],
        [
         "3",
         "9305-CDSKC",
         "Yes"
        ],
        [
         "4",
         "1452-KIOVK",
         "Yes"
        ]
       ],
       "shape": {
        "columns": 2,
        "rows": 5
       }
      },
      "text/html": [
       "<div>\n",
       "<style scoped>\n",
       "    .dataframe tbody tr th:only-of-type {\n",
       "        vertical-align: middle;\n",
       "    }\n",
       "\n",
       "    .dataframe tbody tr th {\n",
       "        vertical-align: top;\n",
       "    }\n",
       "\n",
       "    .dataframe thead th {\n",
       "        text-align: right;\n",
       "    }\n",
       "</style>\n",
       "<table border=\"1\" class=\"dataframe\">\n",
       "  <thead>\n",
       "    <tr style=\"text-align: right;\">\n",
       "      <th></th>\n",
       "      <th>customerID</th>\n",
       "      <th>MultipleLines</th>\n",
       "    </tr>\n",
       "  </thead>\n",
       "  <tbody>\n",
       "    <tr>\n",
       "      <th>0</th>\n",
       "      <td>5575-GNVDE</td>\n",
       "      <td>No</td>\n",
       "    </tr>\n",
       "    <tr>\n",
       "      <th>1</th>\n",
       "      <td>3668-QPYBK</td>\n",
       "      <td>No</td>\n",
       "    </tr>\n",
       "    <tr>\n",
       "      <th>2</th>\n",
       "      <td>9237-HQITU</td>\n",
       "      <td>No</td>\n",
       "    </tr>\n",
       "    <tr>\n",
       "      <th>3</th>\n",
       "      <td>9305-CDSKC</td>\n",
       "      <td>Yes</td>\n",
       "    </tr>\n",
       "    <tr>\n",
       "      <th>4</th>\n",
       "      <td>1452-KIOVK</td>\n",
       "      <td>Yes</td>\n",
       "    </tr>\n",
       "  </tbody>\n",
       "</table>\n",
       "</div>"
      ],
      "text/plain": [
       "   customerID MultipleLines\n",
       "0  5575-GNVDE            No\n",
       "1  3668-QPYBK            No\n",
       "2  9237-HQITU            No\n",
       "3  9305-CDSKC           Yes\n",
       "4  1452-KIOVK           Yes"
      ]
     },
     "metadata": {},
     "output_type": "display_data"
    },
    {
     "name": "stdout",
     "output_type": "stream",
     "text": [
      "=============================================================================================================================\n",
      "|                                                 Análisis de la tabla Phone                                                |\n",
      "=============================================================================================================================\n",
      "Dimensiones: (6361, 2)\n",
      "\n",
      "Estadísticas descriptivas y problemas de calidad:\n",
      "|                               | customerid      | multiplelines   |\n",
      "|:------------------------------|:----------------|:----------------|\n",
      "| Valores Únicos                | 6361            | 2               |\n",
      "| Media                         | -               | -               |\n",
      "| Desviación Estándar           | -               | -               |\n",
      "| Mínimo                        | -               | -               |\n",
      "| Mediana                       | -               | -               |\n",
      "| Máximo                        | -               | -               |\n",
      "| Tipos de datos                | [<class 'str'>] | [<class 'str'>] |\n",
      "| NaN/Null                      | 0               | 0               |\n",
      "| Duplicados únicos             | 0               | 6359            |\n",
      "| Duplicados totales            | 0               | 6361            |\n",
      "| Outlayers (IQR extreme_lower) | -               | -               |\n",
      "| Outlayers (IQR lower)         | -               | -               |\n",
      "| Outlayers (IQR upper)         | -               | -               |\n",
      "| Outlayers (IQR extreme_upper) | -               | -               |\n"
     ]
    }
   ],
   "source": [
    "display(phone.head())\n",
    "Eda.analisis_exploratorio(\"Phone\", phone)"
   ]
  },
  {
   "cell_type": "code",
   "execution_count": 13,
   "metadata": {},
   "outputs": [
    {
     "data": {
      "text/plain": [
       "<Axes: title={'center': 'Multiple Lines'}, xlabel='MultipleLines'>"
      ]
     },
     "execution_count": 13,
     "metadata": {},
     "output_type": "execute_result"
    },
    {
     "data": {
      "image/png": "[encoded data removed]",
      "text/plain": [
       "<Figure size 640x480 with 1 Axes>"
      ]
     },
     "metadata": {},
     "output_type": "display_data"
    }
   ],
   "source": [
    "phone[\"MultipleLines\"].value_counts().plot(kind=\"bar\", title=\"Multiple Lines\")"
   ]
  },
  {
   "cell_type": "markdown",
   "metadata": {},
   "source": [
    "Phone tampoco presenta anomalias, solo convertir sus columnas a sus datos correspondientes."
   ]
  },
  {
   "cell_type": "markdown",
   "metadata": {},
   "source": [
    "### Data Dictionary\n",
    "| Dataset   | Variable           | Tipo     | Descripción                                     |\n",
    "|-----------|--------------------|----------|-------------------------------------------------|\n",
    "| contract  | customerID         | ID       | Identificador único de cliente                  |\n",
    "| contract  | BeginDate          | Fecha    | Fecha de inicio de suscripción                  |\n",
    "| contract  | EndDate            | Fecha    | Fecha de fin / \"No\" si activo                  |\n",
    "| contract  | Type               | Categórica | Month-to-month, One year, Two year             |\n",
    "| contract  | PaperlessBilling   | Categórica | Facturación electrónica (Yes/No)               |\n",
    "| contract  | PaymentMethod      | Categórica | Método de pago                                  |\n",
    "| contract  | MonthlyCharges     | Numérica | Cargo mensual                                   |\n",
    "| contract  | TotalCharges       | Numérica | Cargo total acumulado                           |\n",
    "| personal  | gender             | Categórica | Género (Male/Female)                           |\n",
    "| personal  | SeniorCitizen      | Binaria  | Mayor de 65 años (1)                            |\n",
    "| personal  | Partner            | Binaria  | Tiene pareja (Yes/No)                           |\n",
    "| personal  | Dependents         | Binaria  | Tiene dependientes (Yes/No)                     |\n",
    "| internet  | InternetService    | Categórica | DSL, Fiber optic                               |\n",
    "| internet  | OnlineSecurity, ...| Binarias | Servicios adicionales (Yes/No)                  |\n",
    "| phone     | MultipleLines      | Categórica | Líneas múltiples (Yes/No)   "
   ]
  },
  {
   "cell_type": "markdown",
   "metadata": {},
   "source": [
    "## c) Data Preparation\n",
    "- **Unificación de fuentes:** Merge por `customerID`.\n",
    "- **Limpieza:** Tratamiento de duplicados y valores atípicos.\n",
    "- **Imputación:** Estrategias para datos faltantes (media, moda, indicador).\n",
    "- **Ingeniería de variables:**\n",
    "  - Encoding variables categóricas (One-Hot, Label Encoding).\n",
    "  - Escalado de variables numéricas (StandardScaler).\n",
    "  - Creación de features: número total de servicios, indicadores técnicos."
   ]
  },
  {
   "cell_type": "markdown",
   "metadata": {},
   "source": [
    "Para ahorrar tiempo no se va a tratar la conversión a tipos de datos adecuados por cada archivo individual sino que se lo hara en su versión unificada"
   ]
  },
  {
   "cell_type": "code",
   "execution_count": 14,
   "metadata": {},
   "outputs": [
    {
     "name": "stdout",
     "output_type": "stream",
     "text": [
      "Dimensiones nuevo dataset: (7043, 20)\n"
     ]
    },
    {
     "data": {
      "application/vnd.microsoft.datawrangler.viewer.v0+json": {
       "columns": [
        {
         "name": "index",
         "rawType": "int64",
         "type": "integer"
        },
        {
         "name": "customerID",
         "rawType": "object",
         "type": "string"
        },
        {
         "name": "BeginDate",
         "rawType": "datetime64[ns]",
         "type": "datetime"
        },
        {
         "name": "EndDate",
         "rawType": "object",
         "type": "string"
        },
        {
         "name": "Type",
         "rawType": "object",
         "type": "string"
        },
        {
         "name": "PaperlessBilling",
         "rawType": "object",
         "type": "string"
        },
        {
         "name": "PaymentMethod",
         "rawType": "object",
         "type": "string"
        },
        {
         "name": "MonthlyCharges",
         "rawType": "float64",
         "type": "float"
        },
        {
         "name": "TotalCharges",
         "rawType": "object",
         "type": "string"
        },
        {
         "name": "InternetService",
         "rawType": "object",
         "type": "string"
        },
        {
         "name": "OnlineSecurity",
         "rawType": "object",
         "type": "string"
        },
        {
         "name": "OnlineBackup",
         "rawType": "object",
         "type": "string"
        },
        {
         "name": "DeviceProtection",
         "rawType": "object",
         "type": "string"
        },
        {
         "name": "TechSupport",
         "rawType": "object",
         "type": "string"
        },
        {
         "name": "StreamingTV",
         "rawType": "object",
         "type": "string"
        },
        {
         "name": "StreamingMovies",
         "rawType": "object",
         "type": "string"
        },
        {
         "name": "gender",
         "rawType": "object",
         "type": "string"
        },
        {
         "name": "SeniorCitizen",
         "rawType": "int64",
         "type": "integer"
        },
        {
         "name": "Partner",
         "rawType": "object",
         "type": "string"
        },
        {
         "name": "Dependents",
         "rawType": "object",
         "type": "string"
        },
        {
         "name": "MultipleLines",
         "rawType": "object",
         "type": "string"
        }
       ],
       "conversionMethod": "pd.DataFrame",
       "ref": "5b5d6e3d-09ba-45d2-a0fe-1d6ad8d32acf",
       "rows": [
        [
         "0",
         "0002-ORFBO",
         "2019-05-01 00:00:00",
         "No",
         "One year",
         "Yes",
         "Mailed check",
         "65.6",
         "593.3",
         "DSL",
         "No",
         "Yes",
         "No",
         "Yes",
         "Yes",
         "No",
         "Female",
         "0",
         "Yes",
         "Yes",
         "No"
        ],
        [
         "1",
         "0003-MKNFE",
         "2019-05-01 00:00:00",
         "No",
         "Month-to-month",
         "No",
         "Mailed check",
         "59.9",
         "542.4",
         "DSL",
         "No",
         "No",
         "No",
         "No",
         "No",
         "Yes",
         "Male",
         "0",
         "No",
         "No",
         "Yes"
        ],
        [
         "2",
         "0004-TLHLJ",
         "2019-09-01 00:00:00",
         "2020-01-01 00:00:00",
         "Month-to-month",
         "Yes",
         "Electronic check",
         "73.9",
         "280.85",
         "Fiber optic",
         "No",
         "No",
         "Yes",
         "No",
         "No",
         "No",
         "Male",
         "0",
         "No",
         "No",
         "No"
        ],
        [
         "3",
         "0011-IGKFF",
         "2018-12-01 00:00:00",
         "2020-01-01 00:00:00",
         "Month-to-month",
         "Yes",
         "Electronic check",
         "98.0",
         "1237.85",
         "Fiber optic",
         "No",
         "Yes",
         "Yes",
         "No",
         "Yes",
         "Yes",
         "Male",
         "1",
         "Yes",
         "No",
         "No"
        ],
        [
         "4",
         "0013-EXCHZ",
         "2019-09-01 00:00:00",
         "2019-12-01 00:00:00",
         "Month-to-month",
         "Yes",
         "Mailed check",
         "83.9",
         "267.4",
         "Fiber optic",
         "No",
         "No",
         "No",
         "Yes",
         "Yes",
         "No",
         "Female",
         "1",
         "Yes",
         "No",
         "No"
        ]
       ],
       "shape": {
        "columns": 20,
        "rows": 5
       }
      },
      "text/html": [
       "<div>\n",
       "<style scoped>\n",
       "    .dataframe tbody tr th:only-of-type {\n",
       "        vertical-align: middle;\n",
       "    }\n",
       "\n",
       "    .dataframe tbody tr th {\n",
       "        vertical-align: top;\n",
       "    }\n",
       "\n",
       "    .dataframe thead th {\n",
       "        text-align: right;\n",
       "    }\n",
       "</style>\n",
       "<table border=\"1\" class=\"dataframe\">\n",
       "  <thead>\n",
       "    <tr style=\"text-align: right;\">\n",
       "      <th></th>\n",
       "      <th>customerID</th>\n",
       "      <th>BeginDate</th>\n",
       "      <th>EndDate</th>\n",
       "      <th>Type</th>\n",
       "      <th>PaperlessBilling</th>\n",
       "      <th>PaymentMethod</th>\n",
       "      <th>MonthlyCharges</th>\n",
       "      <th>TotalCharges</th>\n",
       "      <th>InternetService</th>\n",
       "      <th>OnlineSecurity</th>\n",
       "      <th>OnlineBackup</th>\n",
       "      <th>DeviceProtection</th>\n",
       "      <th>TechSupport</th>\n",
       "      <th>StreamingTV</th>\n",
       "      <th>StreamingMovies</th>\n",
       "      <th>gender</th>\n",
       "      <th>SeniorCitizen</th>\n",
       "      <th>Partner</th>\n",
       "      <th>Dependents</th>\n",
       "      <th>MultipleLines</th>\n",
       "    </tr>\n",
       "  </thead>\n",
       "  <tbody>\n",
       "    <tr>\n",
       "      <th>0</th>\n",
       "      <td>0002-ORFBO</td>\n",
       "      <td>2019-05-01</td>\n",
       "      <td>No</td>\n",
       "      <td>One year</td>\n",
       "      <td>Yes</td>\n",
       "      <td>Mailed check</td>\n",
       "      <td>65.6</td>\n",
       "      <td>593.3</td>\n",
       "      <td>DSL</td>\n",
       "      <td>No</td>\n",
       "      <td>Yes</td>\n",
       "      <td>No</td>\n",
       "      <td>Yes</td>\n",
       "      <td>Yes</td>\n",
       "      <td>No</td>\n",
       "      <td>Female</td>\n",
       "      <td>0</td>\n",
       "      <td>Yes</td>\n",
       "      <td>Yes</td>\n",
       "      <td>No</td>\n",
       "    </tr>\n",
       "    <tr>\n",
       "      <th>1</th>\n",
       "      <td>0003-MKNFE</td>\n",
       "      <td>2019-05-01</td>\n",
       "      <td>No</td>\n",
       "      <td>Month-to-month</td>\n",
       "      <td>No</td>\n",
       "      <td>Mailed check</td>\n",
       "      <td>59.9</td>\n",
       "      <td>542.4</td>\n",
       "      <td>DSL</td>\n",
       "      <td>No</td>\n",
       "      <td>No</td>\n",
       "      <td>No</td>\n",
       "      <td>No</td>\n",
       "      <td>No</td>\n",
       "      <td>Yes</td>\n",
       "      <td>Male</td>\n",
       "      <td>0</td>\n",
       "      <td>No</td>\n",
       "      <td>No</td>\n",
       "      <td>Yes</td>\n",
       "    </tr>\n",
       "    <tr>\n",
       "      <th>2</th>\n",
       "      <td>0004-TLHLJ</td>\n",
       "      <td>2019-09-01</td>\n",
       "      <td>2020-01-01 00:00:00</td>\n",
       "      <td>Month-to-month</td>\n",
       "      <td>Yes</td>\n",
       "      <td>Electronic check</td>\n",
       "      <td>73.9</td>\n",
       "      <td>280.85</td>\n",
       "      <td>Fiber optic</td>\n",
       "      <td>No</td>\n",
       "      <td>No</td>\n",
       "      <td>Yes</td>\n",
       "      <td>No</td>\n",
       "      <td>No</td>\n",
       "      <td>No</td>\n",
       "      <td>Male</td>\n",
       "      <td>0</td>\n",
       "      <td>No</td>\n",
       "      <td>No</td>\n",
       "      <td>No</td>\n",
       "    </tr>\n",
       "    <tr>\n",
       "      <th>3</th>\n",
       "      <td>0011-IGKFF</td>\n",
       "      <td>2018-12-01</td>\n",
       "      <td>2020-01-01 00:00:00</td>\n",
       "      <td>Month-to-month</td>\n",
       "      <td>Yes</td>\n",
       "      <td>Electronic check</td>\n",
       "      <td>98.0</td>\n",
       "      <td>1237.85</td>\n",
       "      <td>Fiber optic</td>\n",
       "      <td>No</td>\n",
       "      <td>Yes</td>\n",
       "      <td>Yes</td>\n",
       "      <td>No</td>\n",
       "      <td>Yes</td>\n",
       "      <td>Yes</td>\n",
       "      <td>Male</td>\n",
       "      <td>1</td>\n",
       "      <td>Yes</td>\n",
       "      <td>No</td>\n",
       "      <td>No</td>\n",
       "    </tr>\n",
       "    <tr>\n",
       "      <th>4</th>\n",
       "      <td>0013-EXCHZ</td>\n",
       "      <td>2019-09-01</td>\n",
       "      <td>2019-12-01 00:00:00</td>\n",
       "      <td>Month-to-month</td>\n",
       "      <td>Yes</td>\n",
       "      <td>Mailed check</td>\n",
       "      <td>83.9</td>\n",
       "      <td>267.4</td>\n",
       "      <td>Fiber optic</td>\n",
       "      <td>No</td>\n",
       "      <td>No</td>\n",
       "      <td>No</td>\n",
       "      <td>Yes</td>\n",
       "      <td>Yes</td>\n",
       "      <td>No</td>\n",
       "      <td>Female</td>\n",
       "      <td>1</td>\n",
       "      <td>Yes</td>\n",
       "      <td>No</td>\n",
       "      <td>No</td>\n",
       "    </tr>\n",
       "  </tbody>\n",
       "</table>\n",
       "</div>"
      ],
      "text/plain": [
       "   customerID  BeginDate              EndDate            Type  \\\n",
       "0  0002-ORFBO 2019-05-01                   No        One year   \n",
       "1  0003-MKNFE 2019-05-01                   No  Month-to-month   \n",
       "2  0004-TLHLJ 2019-09-01  2020-01-01 00:00:00  Month-to-month   \n",
       "3  0011-IGKFF 2018-12-01  2020-01-01 00:00:00  Month-to-month   \n",
       "4  0013-EXCHZ 2019-09-01  2019-12-01 00:00:00  Month-to-month   \n",
       "\n",
       "  PaperlessBilling     PaymentMethod  MonthlyCharges TotalCharges  \\\n",
       "0              Yes      Mailed check            65.6        593.3   \n",
       "1               No      Mailed check            59.9        542.4   \n",
       "2              Yes  Electronic check            73.9       280.85   \n",
       "3              Yes  Electronic check            98.0      1237.85   \n",
       "4              Yes      Mailed check            83.9        267.4   \n",
       "\n",
       "  InternetService OnlineSecurity OnlineBackup DeviceProtection TechSupport  \\\n",
       "0             DSL             No          Yes               No         Yes   \n",
       "1             DSL             No           No               No          No   \n",
       "2     Fiber optic             No           No              Yes          No   \n",
       "3     Fiber optic             No          Yes              Yes          No   \n",
       "4     Fiber optic             No           No               No         Yes   \n",
       "\n",
       "  StreamingTV StreamingMovies  gender  SeniorCitizen Partner Dependents  \\\n",
       "0         Yes              No  Female              0     Yes        Yes   \n",
       "1          No             Yes    Male              0      No         No   \n",
       "2          No              No    Male              0      No         No   \n",
       "3         Yes             Yes    Male              1     Yes         No   \n",
       "4         Yes              No  Female              1     Yes         No   \n",
       "\n",
       "  MultipleLines  \n",
       "0            No  \n",
       "1           Yes  \n",
       "2            No  \n",
       "3            No  \n",
       "4            No  "
      ]
     },
     "execution_count": 14,
     "metadata": {},
     "output_type": "execute_result"
    }
   ],
   "source": [
    "df_unified = pd.merge(contract, internet, on=\"customerID\", how=\"outer\")\n",
    "df_unified = pd.merge(df_unified, personal, on=\"customerID\", how=\"outer\")\n",
    "df_unified = pd.merge(df_unified, phone, on=\"customerID\", how=\"outer\")\n",
    "print(f\"Dimensiones nuevo dataset: {df_unified.shape}\")\n",
    "df_unified.head()"
   ]
  },
  {
   "cell_type": "code",
   "execution_count": 15,
   "metadata": {},
   "outputs": [],
   "source": [
    "df_unified[\"BeginDate\"] = pd.to_datetime(df_unified[\"BeginDate\"])"
   ]
  },
  {
   "cell_type": "code",
   "execution_count": 16,
   "metadata": {},
   "outputs": [
    {
     "name": "stdout",
     "output_type": "stream",
     "text": [
      "=============================================================================================================================\n",
      "|                                                Análisis de la tabla Unified                                               |\n",
      "=============================================================================================================================\n",
      "Dimensiones: (7043, 20)\n",
      "\n",
      "Estadísticas descriptivas y problemas de calidad:\n",
      "|                               | customerid      | begindate                                            | enddate         | type            | paperlessbilling   | paymentmethod   | monthlycharges     | totalcharges    | internetservice   | onlinesecurity   | onlinebackup    | deviceprotection   | techsupport     | streamingtv     | streamingmovies   | gender          | seniorcitizen    | partner         | dependents      | multiplelines   |\n",
      "|:------------------------------|:----------------|:-----------------------------------------------------|:----------------|:----------------|:-------------------|:----------------|:-------------------|:----------------|:------------------|:-----------------|:----------------|:-------------------|:----------------|:----------------|:------------------|:----------------|:-----------------|:----------------|:----------------|:----------------|\n",
      "| Valores Únicos                | 7043            | 77                                                   | 5               | 3               | 2                  | 4               | 1585               | 6531            | 2                 | 2                | 2               | 2                  | 2               | 2               | 2                 | 2               | 2                | 2               | 2               | 2               |\n",
      "| Media                         | -               | -                                                    | -               | -               | -                  | -               | 64.76169246059918  | -               | -                 | -                | -               | -                  | -               | -               | -                 | -               | -                | -               | -               | -               |\n",
      "| Desviación Estándar           | -               | -                                                    | -               | -               | -                  | -               | 30.090047097678493 | -               | -                 | -                | -               | -                  | -               | -               | -                 | -               | -                | -               | -               | -               |\n",
      "| Mínimo                        | -               | -                                                    | -               | -               | -                  | -               | 18.25              | -               | -                 | -                | -               | -                  | -               | -               | -                 | -               | -                | -               | -               | -               |\n",
      "| Mediana                       | -               | -                                                    | -               | -               | -                  | -               | 70.35              | -               | -                 | -                | -               | -                  | -               | -               | -                 | -               | -                | -               | -               | -               |\n",
      "| Máximo                        | -               | -                                                    | -               | -               | -                  | -               | 118.75             | -               | -                 | -                | -               | -                  | -               | -               | -                 | -               | -                | -               | -               | -               |\n",
      "| Tipos de datos                | [<class 'str'>] | [<class 'pandas._libs.tslibs.timestamps.Timestamp'>] | [<class 'str'>] | [<class 'str'>] | [<class 'str'>]    | [<class 'str'>] | [<class 'float'>]  | [<class 'str'>] | <class 'str'>     | <class 'str'>    | <class 'str'>   | <class 'str'>      | <class 'str'>   | <class 'str'>   | <class 'str'>     | [<class 'str'>] | [<class 'bool'>] | [<class 'str'>] | [<class 'str'>] | <class 'str'>   |\n",
      "|                               |                 |                                                      |                 |                 |                    |                 |                    |                 | <class 'float'>   | <class 'float'>  | <class 'float'> | <class 'float'>    | <class 'float'> | <class 'float'> | <class 'float'>   |                 |                  |                 |                 | <class 'float'> |\n",
      "| NaN/Null                      | 0               | 0                                                    | 0               | 0               | 0                  | 0               | 0                  | 0               | 1526              | 1526             | 1526            | 1526               | 1526            | 1526            | 1526              | 0               | 0                | 0               | 0               | 682             |\n",
      "| Duplicados únicos             | 0               | 6966                                                 | 7038            | 7040            | 7041               | 7039            | 5458               | 512             | 5515              | 5515             | 5515            | 5515               | 5515            | 5515            | 5515              | 7041            | 7041             | 7041            | 7041            | 6359            |\n",
      "| Duplicados totales            | 0               | 7043                                                 | 7043            | 7043            | 7043               | 7043            | 6662               | 871             | 5517              | 5517             | 5517            | 5517               | 5517            | 5517            | 5517              | 7043            | 7043             | 7043            | 7043            | 6361            |\n",
      "| Outlayers (IQR extreme_lower) | -               | -                                                    | -               | -               | -                  | -               | 0                  | -               | -                 | -                | -               | -                  | -               | -               | -                 | -               | -                | -               | -               | -               |\n",
      "| Outlayers (IQR lower)         | -               | -                                                    | -               | -               | -                  | -               | 0                  | -               | -                 | -                | -               | -                  | -               | -               | -                 | -               | -                | -               | -               | -               |\n",
      "| Outlayers (IQR upper)         | -               | -                                                    | -               | -               | -                  | -               | 0                  | -               | -                 | -                | -               | -                  | -               | -               | -                 | -               | -                | -               | -               | -               |\n",
      "| Outlayers (IQR extreme_upper) | -               | -                                                    | -               | -               | -                  | -               | 0                  | -               | -                 | -                | -               | -                  | -               | -               | -                 | -               | -                | -               | -               | -               |\n"
     ]
    }
   ],
   "source": [
    "Eda.analisis_exploratorio(\"Unified\", df_unified)"
   ]
  },
  {
   "cell_type": "markdown",
   "metadata": {},
   "source": [
    "Con esta unificación se presentaron varios valores nulos en las siguiente columnas:"
   ]
  },
  {
   "cell_type": "code",
   "execution_count": 17,
   "metadata": {},
   "outputs": [
    {
     "name": "stdout",
     "output_type": "stream",
     "text": [
      "InternetService nulos: 1526 / 7043\n",
      "OnlineSecurity nulos: 1526\n",
      "OnlineBackup nulos: 1526\n",
      "DeviceProtection nulos: 1526\n",
      "TechSupport nulos: 1526\n",
      "StreamingTV nulos: 1526\n",
      "StreamingMovies nulos: 1526\n",
      "MultipleLines nulos: 682 / 7043\n"
     ]
    }
   ],
   "source": [
    "# ¿Cuántos clientes sin internet?\n",
    "print(\"InternetService nulos:\", df_unified['InternetService'].isna().sum(),\n",
    "      \"/\", df_unified.shape[0])\n",
    "\n",
    "# ¿Y servicios asociados?\n",
    "for col in ['OnlineSecurity','OnlineBackup','DeviceProtection',\n",
    "            'TechSupport','StreamingTV','StreamingMovies']:\n",
    "    print(f\"{col} nulos:\", df_unified[col].isna().sum())\n",
    "\n",
    "# ¿Cuántos clientes sin línea telefónica?\n",
    "print(\"MultipleLines nulos:\", df_unified['MultipleLines'].isna().sum(),\n",
    "      \"/\", df_unified.shape[0])\n"
   ]
  },
  {
   "cell_type": "markdown",
   "metadata": {},
   "source": [
    "Estos serian usuarios que no cuentan o nunca contaron con estos servicios por lo que podemos imputarlos con \"No\""
   ]
  },
  {
   "cell_type": "code",
   "execution_count": 18,
   "metadata": {},
   "outputs": [],
   "source": [
    "# Diccionario de valores de relleno\n",
    "fill_values = {\n",
    "    'InternetService': 'No',\n",
    "    'MultipleLines':    'No',\n",
    "    # para los flags de internet:\n",
    "    'OnlineSecurity':   'No',\n",
    "    'OnlineBackup':     'No',\n",
    "    'DeviceProtection': 'No',\n",
    "    'TechSupport':      'No',\n",
    "    'StreamingTV':      'No',\n",
    "    'StreamingMovies':  'No',\n",
    "}\n",
    "\n",
    "# Rellenamos todas en un solo paso\n",
    "df_unified = df_unified.fillna(value=fill_values)"
   ]
  },
  {
   "cell_type": "markdown",
   "metadata": {},
   "source": [
    "Con esto hecho podemos pasar a asegurar los tipos de datos de cada variable"
   ]
  },
  {
   "cell_type": "code",
   "execution_count": 19,
   "metadata": {},
   "outputs": [
    {
     "name": "stdout",
     "output_type": "stream",
     "text": [
      "   PaperlessBilling  Partner  Dependents  SeniorCitizen  MultipleLines  \\\n",
      "0                 1        1           1              0              0   \n",
      "1                 0        0           0              0              1   \n",
      "2                 1        0           0              0              0   \n",
      "3                 1        1           0              1              0   \n",
      "4                 1        1           0              1              0   \n",
      "\n",
      "   OnlineSecurity  OnlineBackup  DeviceProtection  TechSupport  StreamingTV  \\\n",
      "0               0             1                 0            1            1   \n",
      "1               0             0                 0            0            0   \n",
      "2               0             0                 1            0            0   \n",
      "3               0             1                 1            0            1   \n",
      "4               0             0                 0            1            1   \n",
      "\n",
      "   StreamingMovies  \n",
      "0                0  \n",
      "1                1  \n",
      "2                0  \n",
      "3                1  \n",
      "4                0  \n",
      "{'PaperlessBilling': [1, 0], 'Partner': [1, 0], 'Dependents': [1, 0], 'SeniorCitizen': [0, 1], 'MultipleLines': [0, 1], 'OnlineSecurity': [0, 1], 'OnlineBackup': [1, 0], 'DeviceProtection': [0, 1], 'TechSupport': [1, 0], 'StreamingTV': [1, 0], 'StreamingMovies': [0, 1]}\n"
     ]
    },
    {
     "name": "stderr",
     "output_type": "stream",
     "text": [
      "/tmp/ipykernel_709146/1882277565.py:19: FutureWarning: Downcasting behavior in `replace` is deprecated and will be removed in a future version. To retain the old behavior, explicitly call `result.infer_objects(copy=False)`. To opt-in to the future behavior, set `pd.set_option('future.no_silent_downcasting', True)`\n",
      "  .replace({'Yes': 1, 'No': 0, True: 1, False: 0})\n"
     ]
    }
   ],
   "source": [
    "# Variables booleanas → 0/1\n",
    "bool_cols = [\n",
    "    'PaperlessBilling',\n",
    "    'Partner',\n",
    "    'Dependents',\n",
    "    'SeniorCitizen',\n",
    "    'MultipleLines',\n",
    "    'OnlineSecurity',\n",
    "    'OnlineBackup',\n",
    "    'DeviceProtection',\n",
    "    'TechSupport',\n",
    "    'StreamingTV',\n",
    "    'StreamingMovies',\n",
    "]\n",
    "\n",
    "# Relleno de NaN como 'No' para las de texto y luego mapeo\n",
    "df_unified[bool_cols] = (\n",
    "    df_unified[bool_cols]\n",
    "      .replace({'Yes': 1, 'No': 0, True: 1, False: 0})\n",
    "      .astype(int)\n",
    ")\n",
    "\n",
    "# Verificación\n",
    "print(df_unified[bool_cols].head())\n",
    "print({c: df_unified[c].unique().tolist() for c in bool_cols})\n"
   ]
  },
  {
   "cell_type": "code",
   "execution_count": 20,
   "metadata": {},
   "outputs": [],
   "source": [
    "# Añadimos las variables de interés\n",
    "df_unified['HasInternet'] = (df_unified['InternetService'] != 'No').astype(int)\n",
    "df_unified['HasPhone']    = (df_unified['MultipleLines']    != 'No').astype(int)"
   ]
  },
  {
   "cell_type": "code",
   "execution_count": 21,
   "metadata": {},
   "outputs": [
    {
     "name": "stdout",
     "output_type": "stream",
     "text": [
      "Dummies creadas: ['Type_One year', 'Type_Two year', 'PaymentMethod_Credit card (automatic)', 'PaymentMethod_Electronic check', 'PaymentMethod_Mailed check', 'InternetService_Fiber optic', 'InternetService_No', 'gender_Male']\n"
     ]
    }
   ],
   "source": [
    "# Variables categóricas → One-Hot Encoding (drop_first)\n",
    "cat_cols = [\n",
    "    'Type',\n",
    "    'PaymentMethod',\n",
    "    'InternetService',\n",
    "    'gender',\n",
    "    'MultipleLines'\n",
    "]\n",
    "\n",
    "# One-Hot y concatenación\n",
    "dummies = pd.get_dummies(df_unified[cat_cols], drop_first=True, dtype=int)\n",
    "df_unified = pd.concat([\n",
    "    df_unified.drop(columns=cat_cols),\n",
    "    dummies\n",
    "], axis=1)\n",
    "\n",
    "# Verificación\n",
    "print(\"Dummies creadas:\", [c for c in df_unified.columns if '_' in c and c.split('_')[0] in cat_cols])"
   ]
  },
  {
   "cell_type": "code",
   "execution_count": 22,
   "metadata": {},
   "outputs": [],
   "source": [
    "df_unified['MonthlyCharges'] = pd.to_numeric(df_unified['MonthlyCharges'], errors='coerce')\n",
    "df_unified['TotalCharges']   = pd.to_numeric(df_unified['TotalCharges'], errors='coerce')"
   ]
  },
  {
   "cell_type": "code",
   "execution_count": 23,
   "metadata": {},
   "outputs": [],
   "source": [
    "# Impute TotalCharges with MonthlyCharges for these new customers\n",
    "df_unified.loc[df_unified['TotalCharges'].isna(), 'TotalCharges'] = df_unified['MonthlyCharges'].max()"
   ]
  },
  {
   "cell_type": "code",
   "execution_count": 24,
   "metadata": {},
   "outputs": [
    {
     "data": {
      "text/plain": [
       "EndDate\n",
       "No                     5174\n",
       "2019-11-01 00:00:00     485\n",
       "2019-12-01 00:00:00     466\n",
       "2020-01-01 00:00:00     460\n",
       "2019-10-01 00:00:00     458\n",
       "Name: count, dtype: int64"
      ]
     },
     "execution_count": 24,
     "metadata": {},
     "output_type": "execute_result"
    }
   ],
   "source": [
    "df_unified[\"EndDate\"].value_counts()"
   ]
  },
  {
   "cell_type": "code",
   "execution_count": 25,
   "metadata": {},
   "outputs": [],
   "source": [
    "df_unified[\"IsChurn\"] = (df_unified[\"EndDate\"] != \"No\").astype(int)"
   ]
  },
  {
   "cell_type": "code",
   "execution_count": 26,
   "metadata": {},
   "outputs": [
    {
     "data": {
      "text/plain": [
       "<Axes: title={'center': 'IsChurn'}, xlabel='IsChurn'>"
      ]
     },
     "execution_count": 26,
     "metadata": {},
     "output_type": "execute_result"
    },
    {
     "data": {
      "image/png": "[encoded data removed]",
      "text/plain": [
       "<Figure size 640x480 with 1 Axes>"
      ]
     },
     "metadata": {},
     "output_type": "display_data"
    }
   ],
   "source": [
    "df_unified[\"IsChurn\"].value_counts().plot(kind=\"bar\", title=\"IsChurn\")"
   ]
  },
  {
   "cell_type": "markdown",
   "metadata": {},
   "source": [
    "### Feature engineering"
   ]
  },
  {
   "cell_type": "code",
   "execution_count": null,
   "metadata": {},
   "outputs": [
    {
     "name": "stdout",
     "output_type": "stream",
     "text": [
      "Dimensiones nuevo dataset: (7043, 29)\n"
     ]
    }
   ],
   "source": [
    "import pandas as pd\n",
    "import numpy as np\n",
    "\n",
    "# Ingenieria de caracteristicas hecha con ayuda de ChatGPT\n",
    "hoy = pd.Timestamp('2020-02-01')  # fecha de corte para clientes activos (Max BeginDate)\n",
    "df_unified['EndDate'] = df_unified['EndDate'].replace('No', pd.NaT)\n",
    "df_unified['EndDate'] = pd.to_datetime(df_unified['EndDate'])\n",
    "servicios = ['OnlineSecurity','OnlineBackup','DeviceProtection',\n",
    "             'TechSupport','StreamingTV','StreamingMovies','MultipleLines']\n",
    "df_unified['NumServices'] = df_unified[servicios].apply(lambda x: (x=='Yes').sum(), axis=1)\n",
    "\n",
    "# Se decidio no utilizar por generar muchos valores nulos\n",
    "# # Calcular TenureMonths\n",
    "# df_unified['TenureMonths'] = (\n",
    "#     (df_unified['EndDate'].dt.year - df_unified['BeginDate'].dt.year) * 12\n",
    "#     + (df_unified['EndDate'].dt.month - df_unified['BeginDate'].dt.month)\n",
    "# )\n",
    "\n",
    "# # ChargePerMonth\n",
    "# df_unified['ChargePerMonth'] = np.where(\n",
    "#     df_unified['TenureMonths'] > 0,\n",
    "#     df_unified['TotalCharges'] / df_unified['TenureMonths'],\n",
    "#     df_unified['MonthlyCharges']\n",
    "# )\n",
    "\n",
    "# # TenureYears y TenureBucket\n",
    "# df_unified['TenureYears'] = (df_unified['TenureMonths'] / 12).round(2)\n",
    "# bins = [-1, 6, 12, 24, np.inf]\n",
    "# labels = ['<=6m','6-12m','1-2y','>2y']\n",
    "# df_unified['TenureBucket'] = pd.cut(df_unified['TenureMonths'], bins=bins, labels=labels)\n",
    "\n",
    "# BeginMonth y BeginYear\n",
    "df_unified['BeginMonth'] = df_unified['BeginDate'].dt.month\n",
    "df_unified['BeginYear']  = df_unified['BeginDate'].dt.year\n",
    "\n",
    "# NumStreaming = StreamingTV + StreamingMovies\n",
    "# Primero aseguramos que Streaming* sean 0/1\n",
    "for col in ['StreamingTV','StreamingMovies']:\n",
    "    df_unified[col] = df_unified[col].replace({'Yes':1,'No':0}).astype(int)\n",
    "df_unified['NumStreaming'] = df_unified['StreamingTV'] + df_unified['StreamingMovies']\n",
    "\n",
    "# AvgChargePerService\n",
    "df_unified['AvgChargePerService'] = np.where(\n",
    "    df_unified['NumServices'] > 0,\n",
    "    df_unified['MonthlyCharges'] / df_unified['NumServices'],\n",
    "    df_unified['MonthlyCharges']\n",
    ")\n",
    "\n",
    "# LongTermCustomer\n",
    "# df_unified['LongTermCustomer'] = (df_unified['TenureMonths'] > 24).astype(int)\n",
    "\n",
    "\n",
    "df_unified.drop(columns=['customerID', 'BeginDate', 'EndDate'], inplace=True)\n",
    "print(f\"Dimensiones nuevo dataset: {df_unified.shape}\")"
   ]
  },
  {
   "cell_type": "markdown",
   "metadata": {},
   "source": [
    "## d) Modeling\n",
    "En esta sección se seleccionaron y entrenaron tres algoritmos supervisados con el objetivo de predecir la variable objetivo (churn):\n",
    "\n",
    "Logistic Regression: un modelo lineal de referencia.\n",
    "\n",
    "Random Forest: modelo de tipo ensemble basado en árboles.\n",
    "\n",
    "XGBoost: algoritmo de boosting basado en gradiente, altamente eficiente.\n",
    "\n",
    "Cada modelo fue ajustado con cross-validation estratificada de 5 pliegues utilizando la métrica AUC-ROC como criterio principal. Además, se aplicó un escalamiento de variables donde fue necesario (por ejemplo, en regresión logística)."
   ]
  },
  {
   "cell_type": "code",
   "execution_count": 31,
   "metadata": {},
   "outputs": [
    {
     "name": "stdout",
     "output_type": "stream",
     "text": [
      "LogisticRegression CV AUC-ROC: 0.843 ± 0.004\n",
      "RandomForest CV AUC-ROC: 0.874 ± 0.003\n",
      "XGBoost CV AUC-ROC: 0.906 ± 0.007\n"
     ]
    }
   ],
   "source": [
    "from sklearn.model_selection import train_test_split, StratifiedKFold, cross_val_score\n",
    "from sklearn.metrics import roc_auc_score, average_precision_score\n",
    "from sklearn.ensemble  import RandomForestClassifier\n",
    "from sklearn.linear_model import LogisticRegression\n",
    "from sklearn.preprocessing import StandardScaler\n",
    "from imblearn.over_sampling import SMOTE\n",
    "from sklearn.pipeline import Pipeline\n",
    "import xgboost as xgb\n",
    "\n",
    "# Preparar X,y \n",
    "X = df_unified.drop(columns=['IsChurn'])\n",
    "y = df_unified['IsChurn']\n",
    "\n",
    "# Split estratificado 70/30\n",
    "X_train, X_test, y_train, y_test = train_test_split(\n",
    "    X, y, test_size=0.3, stratify=y, random_state=42\n",
    ")\n",
    "\n",
    "# Manejo de desbalance \n",
    "if y_train.mean() < 0.25:\n",
    "    sm = SMOTE(random_state=42)\n",
    "    X_train, y_train = sm.fit_resample(X_train, y_train)\n",
    "\n",
    "# Definir modelo\n",
    "models = {\n",
    "    'LogisticRegression': Pipeline([\n",
    "        ('scale', StandardScaler()),\n",
    "        ('clf', LogisticRegression(solver='lbfgs', max_iter=5000, random_state=42))\n",
    "    ]),\n",
    "    'RandomForest': RandomForestClassifier(n_estimators=200, random_state=42),\n",
    "    'XGBoost': xgb.XGBClassifier(eval_metric='logloss', random_state=42)\n",
    "}\n",
    "\n",
    "# Cross-validation AUC-ROC\n",
    "cv = StratifiedKFold(n_splits=5, shuffle=True, random_state=42)\n",
    "cv_results = {}\n",
    "for name, model in models.items():\n",
    "    scores = cross_val_score(model, X_train, y_train,\n",
    "                             cv=cv, scoring='roc_auc', n_jobs=-1)\n",
    "    cv_results[name] = scores.mean()\n",
    "    print(f\"{name} CV AUC-ROC: {scores.mean():.3f} ± {scores.std():.3f}\")\n",
    "\n",
    "# Entrenar final y evaluación en test\n",
    "eval_df = []\n",
    "for name, model in models.items():\n",
    "    model.fit(X_train, y_train)\n",
    "    proba = model.predict_proba(X_test)[:,1]\n",
    "    auc  = roc_auc_score(y_test, proba)\n",
    "    ap   = average_precision_score(y_test, proba)\n",
    "    eval_df.append({\n",
    "        'Model': name,\n",
    "        'CV_AUC': cv_results[name],\n",
    "        'Test_AUC': auc,\n",
    "        'Test_AP':  ap\n",
    "    })\n",
    "\n",
    "eval_df = pd.DataFrame(eval_df).sort_values('Test_AUC', ascending=False)"
   ]
  },
  {
   "cell_type": "markdown",
   "metadata": {},
   "source": [
    "## e) Evaluation\n",
    "Se evaluó el desempeño de los modelos tanto en validación cruzada como en el conjunto de test. Se utilizaron dos métricas principales:\n",
    "\n",
    "AUC-ROC (Área bajo la curva ROC): principal métrica de comparación, útil para datasets desbalanceados.\n",
    "\n",
    "Average Precision (AP): métrica complementaria basada en la curva precisión-recall, también robusta al desbalance.\n",
    "\n",
    "Resultados:"
   ]
  },
  {
   "cell_type": "code",
   "execution_count": 33,
   "metadata": {},
   "outputs": [
    {
     "name": "stdout",
     "output_type": "stream",
     "text": [
      "             Model   CV_AUC  Test_AUC  Test_AP\n",
      "           XGBoost 0.905744  0.915406 0.858514\n",
      "      RandomForest 0.874419  0.876112 0.762916\n",
      "LogisticRegression 0.843479  0.836229 0.638286\n"
     ]
    }
   ],
   "source": [
    "print(eval_df.to_string(index=False))"
   ]
  },
  {
   "cell_type": "markdown",
   "metadata": {},
   "source": [
    "Conclusión: XGBoost superó al resto de los modelos en ambas métricas, por lo que se considera el mejor modelo para este problema.\n"
   ]
  },
  {
   "cell_type": "code",
   "execution_count": 36,
   "metadata": {},
   "outputs": [
    {
     "name": "stderr",
     "output_type": "stream",
     "text": [
      "/tmp/ipykernel_709146/2279576747.py:18: FutureWarning: \n",
      "\n",
      "Passing `palette` without assigning `hue` is deprecated and will be removed in v0.14.0. Assign the `y` variable to `hue` and set `legend=False` for the same effect.\n",
      "\n",
      "  sns.barplot(data=importance_df, x='Gain', y='Feature', palette='viridis')\n"
     ]
    },
    {
     "data": {
      "image/png": "[encoded data removed]",
      "text/plain": [
       "<Figure size 1000x600 with 1 Axes>"
      ]
     },
     "metadata": {},
     "output_type": "display_data"
    }
   ],
   "source": [
    "import matplotlib.pyplot as plt\n",
    "import seaborn as sns\n",
    "import pandas as pd\n",
    "\n",
    "# Asegúrate de tener entrenado el modelo XGBoost con las variables X_train\n",
    "xgb_model = xgb.XGBClassifier(eval_metric='logloss', random_state=42)\n",
    "xgb_model.fit(X_train, y_train)\n",
    "\n",
    "# Obtener importancias\n",
    "importances = xgb_model.get_booster().get_score(importance_type='gain')\n",
    "importance_df = pd.DataFrame({\n",
    "    'Feature': list(importances.keys()),\n",
    "    'Gain': list(importances.values())\n",
    "}).sort_values(by='Gain', ascending=False).head(10)\n",
    "\n",
    "# Visualizar\n",
    "plt.figure(figsize=(10, 6))\n",
    "sns.barplot(data=importance_df, x='Gain', y='Feature', palette='viridis')\n",
    "plt.title('Top 10 Features por Gain (XGBoost)')\n",
    "plt.xlabel('Gain')\n",
    "plt.ylabel('Feature')\n",
    "plt.tight_layout()\n",
    "plt.show()\n"
   ]
  },
  {
   "cell_type": "markdown",
   "metadata": {},
   "source": [
    "Analizando el gráfico de importancia de características del modelo XGBoost para predecir el abandono (churn) de clientes en Interconnect, se destaca claramente que el tipo de contrato a dos años (\"Type_Two year\") es el factor más influyente con diferencia, seguido por el servicio de internet de fibra óptica y los contratos de un año. Los métodos de pago electrónico y la disponibilidad de internet también tienen peso significativo. Esto sugiere que la permanencia del cliente está fuertemente determinada por compromisos contractuales a largo plazo, mientras que la tecnología de conexión y los métodos de pago modernos también influyen en la decisión de mantener el servicio. La estrategia de retención debería enfocarse en ofrecer contratos más extensos y promociones específicas para clientes con servicio de fibra óptica que muestren signos de posible abandono."
   ]
  },
  {
   "cell_type": "markdown",
   "metadata": {},
   "source": [
    "## f) Deployment / Próximos pasos\n",
    "\n",
    "### Despliegue e integración del modelo\n",
    "- **Pipeline MLOps:** Exportar el modelo XGBoost optimizado junto con todo el pipeline de preprocesamiento (codificaciones, ingeniería de características) mediante joblib/pickle.\n",
    "- **API REST con FastAPI:** Implementar un servicio que exponga dos endpoints:\n",
    "  - `/predict`: Para cálculo en tiempo real de probabilidad de churn para clientes individuales\n",
    "  - `/batch-predict`: Para procesamiento nocturno de toda la base activa\n",
    "- **Integración bidireccional con CRM:** Conectar con el sistema de gestión de clientes para activar automáticamente las campañas de retención según el segmento de riesgo.\n",
    "\n",
    "### Monitoreo de rendimiento y deriva de datos\n",
    "- **Alertas automáticas:** El sistema detectará:\n",
    "  - Caída de AUC-ROC > 3% respecto al baseline (0.915)\n",
    "  - Cambios significativos en la distribución de variables clave, especialmente tipos de contrato\n",
    "  - Aumento > 5% en la tasa global de churn mensual\n",
    "- **Reentrenamiento programado:** Mensual con datos frescos, o inmediato si se activa alguna alerta\n",
    "\n",
    "### Estrategia de retención personalizada basada en insights del modelo\n",
    "- **Alto riesgo (> 0.85):** \n",
    "  - Llamada proactiva ofreciendo migración a contrato de dos años (variable más importante)\n",
    "  - 25% descuento en el primer trimestre del nuevo contrato\n",
    "  - Para clientes con fibra óptica: oferta especial de servicios adicionales gratuitos por 6 meses\n",
    "- **Medio riesgo (0.70-0.85):**\n",
    "  - Correo electrónico personalizado con oferta de 15% descuento por renovación anticipada\n",
    "  - Para clientes con pago electrónico: incentivo adicional por mantener este método\n",
    "- **Bajo riesgo (0.50-0.70):**\n",
    "  - Notificación en app/SMS con beneficios de fidelidad\n",
    "  - Encuesta de satisfacción enfocada en servicios de streaming y respaldo\n",
    "\n",
    "### Plan de validación y mejora continua\n",
    "- **Experimentos A/B:** Probar diferentes ofertas y mensajes para cada segmento para optimizar la conversión\n",
    "- **Expansión del modelo:** Desarrollar submodelos específicos para segmentos clave (ej. usuarios de fibra óptica)\n",
    "- **Estimación de impacto financiero:** Calcular ROI mensual de la estrategia de retención basándose en el lifetime value de clientes salvados vs. costo de incentivos"
   ]
  }
 ],
 "metadata": {
  "kernelspec": {
   "display_name": "Python 3",
   "language": "python",
   "name": "python3"
  },
  "language_info": {
   "codemirror_mode": {
    "name": "ipython",
    "version": 3
   },
   "file_extension": ".py",
   "mimetype": "text/x-python",
   "name": "python",
   "nbconvert_exporter": "python",
   "pygments_lexer": "ipython3",
   "version": "3.13.2"
  }
 },
 "nbformat": 4,
 "nbformat_minor": 2
}
